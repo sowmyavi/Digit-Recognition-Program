{
 "cells": [
  {
   "cell_type": "markdown",
   "id": "20e19694",
   "metadata": {},
   "source": [
    "## Build a Digit Recognition Program"
   ]
  },
  {
   "cell_type": "markdown",
   "id": "a9705141",
   "metadata": {},
   "source": [
    "In this initiative, we aim to develop and implement a deep learning model designed to identify sequences of digits. The training will be conducted using synthetic datasets, which we will create by merging character images from the MNIST dataset.\n",
    "\n",
    "For testing purposes, we will generate synthetic digit sequences, restricting them to a maximum of five digits. Our approach includes integrating five classifiers within the deep network architecture. Additionally, to manage sequences of varying lengths, we will introduce an extra 'blank' character.\n",
    "\n",
    "The construction of this model will be executed using Keras, a Python-based deep learning API known for its simplicity and flexibility. "
   ]
  },
  {
   "cell_type": "code",
   "execution_count": 48,
   "id": "2ec78ca0",
   "metadata": {},
   "outputs": [],
   "source": [
    "#Imports\n",
    "from keras.models import Model\n",
    "from keras.layers import Dense, Dropout, Activation, Flatten, Input, Conv2D, MaxPooling2D\n",
    "\n",
    "from __future__ import print_function\n",
    "from skimage.transform import resize\n",
    "import random\n",
    "from os import listdir\n",
    "import glob\n",
    "\n",
    "import numpy as np\n",
    "from scipy import misc\n",
    "import tensorflow as tf\n",
    "import h5py\n",
    "\n",
    "from keras.datasets import mnist\n",
    "from keras.utils import to_categorical\n",
    "\n",
    "\n",
    "import matplotlib.pyplot as plt\n",
    "%matplotlib inline"
   ]
  },
  {
   "cell_type": "code",
   "execution_count": 49,
   "id": "99924675",
   "metadata": {},
   "outputs": [],
   "source": [
    "#Setting the random seed so that the results are reproducible. \n",
    "random.seed(101)\n",
    "\n",
    "#Setting variables for MNIST image dimensions\n",
    "mnist_image_height = 28\n",
    "mnist_image_width = 28"
   ]
  },
  {
   "cell_type": "code",
   "execution_count": 50,
   "id": "d62cc2b6",
   "metadata": {},
   "outputs": [],
   "source": [
    "#Import MNIST data from keras\n",
    "(X_train, y_train), (X_test, y_test) = mnist.load_data()"
   ]
  },
  {
   "cell_type": "code",
   "execution_count": 51,
   "id": "03ed820b",
   "metadata": {},
   "outputs": [
    {
     "name": "stdout",
     "output_type": "stream",
     "text": [
      "Shape of training dataset: (60000, 28, 28)\n",
      "Shape of test dataset: (10000, 28, 28)\n",
      "Label for image: 5\n"
     ]
    },
    {
     "data": {
      "image/png": "[encoded data removed]",
      "text/plain": [
       "<Figure size 640x480 with 1 Axes>"
      ]
     },
     "metadata": {},
     "output_type": "display_data"
    }
   ],
   "source": [
    "#Checking the downloaded data\n",
    "print(\"Shape of training dataset: {}\".format(np.shape(X_train)))\n",
    "print(\"Shape of test dataset: {}\".format(np.shape(X_test)))\n",
    "\n",
    "\n",
    "plt.figure()\n",
    "plt.imshow(X_train[0], cmap='gray')\n",
    "\n",
    "print(\"Label for image: {}\".format(y_train[0]))"
   ]
  },
  {
   "cell_type": "markdown",
   "id": "f3faa88b",
   "metadata": {},
   "source": [
    "## Building synthetic data"
   ]
  },
  {
   "cell_type": "markdown",
   "id": "a2377559",
   "metadata": {},
   "source": [
    "The MNIST dataset is a classic starting point for those delving into deep learning. To elevate the complexity of our task, we're going to tackle the recognition of images that may contain between one and five digits. This challenge requires a redesign of our deep learning model's architecture, but first, we need to create a corresponding dataset.\n",
    "\n",
    "Our strategy for crafting the synthetic training data involves randomly selecting up to five digits from the MNIST training set and then combining these into single images. Where fewer than five digits are chosen, we'll fill the gaps with 'blank' placeholders, ensuring each image represents a five-digit sequence. This method will not only enhance the diversity of our training set but also expand its volume, aiming for 60,000 examples.\n",
    "\n",
    "In this image assembly process, we will simultaneously generate a five-element tuple label for each composite image. The numbers 0 through 9 will signify actual digits, while the number 10 will denote a 'blank' space.\n",
    "\n",
    "This same technique will be applied to generate 10,000 synthetic test images, though we'll draw the individual digits from the MNIST test set instead.\n",
    "\n",
    "Next, we'll develop a function to automate this process."
   ]
  },
  {
   "cell_type": "code",
   "execution_count": 52,
   "id": "28827a08",
   "metadata": {},
   "outputs": [],
   "source": [
    "# Function to build synthetic data\n",
    "def build_synth_data(data, labels, dataset_size):\n",
    "    # Define synthetic image dimensions\n",
    "    synth_img_height = 64\n",
    "    synth_img_width = 64\n",
    "\n",
    "    # Initialize synthetic data and labels\n",
    "    synth_data = np.ndarray(shape=(dataset_size, synth_img_height, synth_img_width), dtype=np.float32)\n",
    "    synth_labels = []\n",
    "\n",
    "    # Loop to build the synthetic dataset\n",
    "    for i in range(dataset_size):\n",
    "        # Pick a random number of digits for the dataset\n",
    "        num_digits = random.randint(1, 5)\n",
    "        s_indices = [random.randint(0, len(data) - 1) for _ in range(num_digits)]\n",
    "\n",
    "        # Stitch images together\n",
    "        new_image = np.hstack([data[index] for index in s_indices])\n",
    "\n",
    "        # Stitch the labels together\n",
    "        new_label = [labels[index] for index in s_indices]\n",
    "\n",
    "        # Loop to concatenate blank images and labels for shorter sequences\n",
    "        for _ in range(5 - num_digits):\n",
    "            new_image = np.hstack([new_image, np.zeros((mnist_image_height, mnist_image_width))])\n",
    "            new_label.append(10)  # Indicates a blank space\n",
    "\n",
    "        # Resize the stitched image\n",
    "        new_image = resize(new_image, (synth_img_height, synth_img_width), anti_aliasing=True)\n",
    "        new_image = (new_image * 255).astype(np.uint8)  # Scale back to 0-255 range and convert to uint8\n",
    "\n",
    "        # Add the image and label to the synthetic dataset\n",
    "        synth_data[i, :, :] = new_image\n",
    "        synth_labels.append(tuple(new_label))\n",
    "\n",
    "    # Return the synthetic dataset\n",
    "    return synth_data, synth_labels"
   ]
  },
  {
   "cell_type": "code",
   "execution_count": 53,
   "id": "54353afe",
   "metadata": {},
   "outputs": [],
   "source": [
    "# Use the function to build the synthetic training dataset\n",
    "X_synth_train, y_synth_train = build_synth_data(X_train, y_train, 60000)"
   ]
  },
  {
   "cell_type": "code",
   "execution_count": 54,
   "id": "9a84fad0",
   "metadata": {},
   "outputs": [],
   "source": [
    "#Building the test dataset\n",
    "X_synth_test,y_synth_test = build_synth_data(X_test,y_test,10000)"
   ]
  },
  {
   "cell_type": "code",
   "execution_count": 55,
   "id": "46b96163",
   "metadata": {},
   "outputs": [
    {
     "data": {
      "text/plain": [
       "(1, 4, 1, 9, 7)"
      ]
     },
     "execution_count": 55,
     "metadata": {},
     "output_type": "execute_result"
    },
    {
     "data": {
      "image/png": "[encoded data removed]",
      "text/plain": [
       "<Figure size 640x480 with 1 Axes>"
      ]
     },
     "metadata": {},
     "output_type": "display_data"
    }
   ],
   "source": [
    "#checking a sample\n",
    "plt.figure()\n",
    "plt.imshow(X_synth_train[232], cmap='gray')\n",
    "\n",
    "y_synth_train[232]"
   ]
  },
  {
   "cell_type": "markdown",
   "id": "5951e2d4",
   "metadata": {},
   "source": [
    "Looks like things work as we expect them to. Let's prepare the datset and labels so that keras can handle them."
   ]
  },
  {
   "cell_type": "markdown",
   "id": "772abb48",
   "metadata": {},
   "source": [
    "## Preparatory Preprocessing"
   ]
  },
  {
   "cell_type": "markdown",
   "id": "7b08346c",
   "metadata": {},
   "source": [
    "We'll transform the labels into one-hot encoded arrays to ensure compatibility with Keras. Since our deep learning model will incorporate five classifiers, each corresponding to a digit position in the image, we'll create five separate one-hot encoded arrays for each position."
   ]
  },
  {
   "cell_type": "code",
   "execution_count": 56,
   "id": "9ebe99c2",
   "metadata": {},
   "outputs": [],
   "source": [
    "def convert_labels(labels):\n",
    "    #Declare output ndarrays\n",
    "    dig0_arr = np.ndarray(shape=(len(labels),possible_classes))\n",
    "    dig1_arr = np.ndarray(shape=(len(labels),possible_classes))\n",
    "    dig2_arr = np.ndarray(shape=(len(labels),possible_classes))\n",
    "    dig3_arr = np.ndarray(shape=(len(labels),possible_classes)) #5 for digits, 11 for possible classes  \n",
    "    dig4_arr = np.ndarray(shape=(len(labels),possible_classes))\n",
    "    \n",
    "    for index,label in enumerate(labels):\n",
    "        \n",
    "        #Using to_categorical from keras to OHE the labels in the image\n",
    "        dig0_arr[index,:] = to_categorical(label[0],possible_classes)\n",
    "        dig1_arr[index,:] = to_categorical(label[1],possible_classes)\n",
    "        dig2_arr[index,:] = to_categorical(label[2],possible_classes)\n",
    "        dig3_arr[index,:] = to_categorical(label[3],possible_classes)\n",
    "        dig4_arr[index,:] = to_categorical(label[4],possible_classes)\n",
    "        \n",
    "    return [dig0_arr,dig1_arr,dig2_arr,dig3_arr,dig4_arr]\n"
   ]
  },
  {
   "cell_type": "code",
   "execution_count": 57,
   "id": "85b618b3",
   "metadata": {},
   "outputs": [],
   "source": [
    "train_labels = convert_labels(y_synth_train)\n",
    "test_labels = convert_labels(y_synth_test)"
   ]
  },
  {
   "cell_type": "code",
   "execution_count": 58,
   "id": "1e506bd2",
   "metadata": {},
   "outputs": [
    {
     "data": {
      "text/plain": [
       "(60000, 11)"
      ]
     },
     "execution_count": 58,
     "metadata": {},
     "output_type": "execute_result"
    }
   ],
   "source": [
    "#Checking the shape of the OHE array for the first digit position\n",
    "np.shape(train_labels[0])"
   ]
  },
  {
   "cell_type": "code",
   "execution_count": 59,
   "id": "69ffaf24",
   "metadata": {},
   "outputs": [
    {
     "data": {
      "text/plain": [
       "array([[0., 1., 0., 0., 0., 0., 0., 0., 0., 0., 0.],\n",
       "       [0., 0., 0., 0., 0., 0., 0., 0., 0., 0., 1.],\n",
       "       [0., 0., 0., 0., 0., 0., 0., 0., 0., 0., 1.],\n",
       "       [0., 0., 0., 0., 0., 0., 0., 0., 0., 0., 1.],\n",
       "       [0., 0., 0., 0., 0., 0., 0., 0., 0., 0., 1.]])"
      ]
     },
     "execution_count": 59,
     "metadata": {},
     "output_type": "execute_result"
    }
   ],
   "source": [
    "to_categorical(y_synth_train[234], 11)"
   ]
  },
  {
   "cell_type": "markdown",
   "id": "a18ca719",
   "metadata": {},
   "source": [
    "## Preprocessing Images "
   ]
  },
  {
   "cell_type": "markdown",
   "id": "7fdc769b",
   "metadata": {},
   "source": [
    "The function below will pre-process the images so that they can be handled by keras."
   ]
  },
  {
   "cell_type": "code",
   "execution_count": 60,
   "id": "0b8cf3a4",
   "metadata": {},
   "outputs": [],
   "source": [
    "def prep_data_keras(img_data):\n",
    "    \n",
    "    #Reshaping data for keras, with tensorflow as backend\n",
    "    img_data = img_data.reshape(len(img_data),64,64,1)\n",
    "    \n",
    "    #Converting everything to floats\n",
    "    img_data = img_data.astype('float32')\n",
    "    \n",
    "    #Normalizing values between 0 and 1\n",
    "    img_data /= 255\n",
    "    \n",
    "    return img_data"
   ]
  },
  {
   "cell_type": "code",
   "execution_count": 61,
   "id": "5b03bb73",
   "metadata": {},
   "outputs": [],
   "source": [
    "train_images = prep_data_keras(X_synth_train)\n",
    "test_images = prep_data_keras(X_synth_test)"
   ]
  },
  {
   "cell_type": "code",
   "execution_count": 62,
   "id": "95f07ac7",
   "metadata": {},
   "outputs": [
    {
     "data": {
      "text/plain": [
       "(60000, 64, 64, 1)"
      ]
     },
     "execution_count": 62,
     "metadata": {},
     "output_type": "execute_result"
    }
   ],
   "source": [
    "np.shape(train_images)"
   ]
  },
  {
   "cell_type": "code",
   "execution_count": 63,
   "id": "7845963a",
   "metadata": {},
   "outputs": [
    {
     "data": {
      "text/plain": [
       "(10000, 64, 64, 1)"
      ]
     },
     "execution_count": 63,
     "metadata": {},
     "output_type": "execute_result"
    }
   ],
   "source": [
    "np.shape(test_images)"
   ]
  },
  {
   "cell_type": "markdown",
   "id": "9e2bf5e7",
   "metadata": {},
   "source": [
    "## Model Building"
   ]
  },
  {
   "cell_type": "code",
   "execution_count": 64,
   "id": "ff3373a8",
   "metadata": {},
   "outputs": [],
   "source": [
    "#Importing relevant keras modules\n",
    "from keras.models import Sequential, Model\n",
    "from keras.layers import Dense, Dropout, Activation, Flatten, Input\n",
    "from keras.layers import Convolution2D, MaxPooling2D"
   ]
  },
  {
   "cell_type": "markdown",
   "id": "14c3e9d0",
   "metadata": {},
   "source": [
    "Our network will be built on a Convolutional Neural Network (CNN) framework. It will commence with a 2D Convolutional layer, post which ReLU activation functions will be applied subsequent to every convolutional layer.\n",
    "\n",
    "Following the second convolution and its ReLU activation, we'll incorporate 2D Max Pooling and a dropout layer to fortify the model against overfitting. We will then utilize a flattening layer to prepare the data for the classification layers. These final layers will be dense, with each one comprising as many units as there are classes (in this case, 11), and will employ a softmax activation to output the probability for each class."
   ]
  },
  {
   "cell_type": "code",
   "execution_count": 71,
   "id": "ad688fb2",
   "metadata": {},
   "outputs": [
    {
     "name": "stdout",
     "output_type": "stream",
     "text": [
      "Epoch 1/12\n",
      "\u001b[1m469/469\u001b[0m \u001b[32m━━━━━━━━━━━━━━━━━━━━\u001b[0m\u001b[37m\u001b[0m \u001b[1m94s\u001b[0m 198ms/step - c0_accuracy: 0.4714 - dense_43_accuracy: 0.5522 - dense_44_accuracy: 0.6151 - dense_45_accuracy: 0.7207 - dense_46_accuracy: 0.8346 - loss: 5.4600 - val_c0_accuracy: 0.8784 - val_dense_43_accuracy: 0.8902 - val_dense_44_accuracy: 0.9173 - val_dense_45_accuracy: 0.9357 - val_dense_46_accuracy: 0.9648 - val_loss: 1.7251\n",
      "Epoch 2/12\n",
      "\u001b[1m469/469\u001b[0m \u001b[32m━━━━━━━━━━━━━━━━━━━━\u001b[0m\u001b[37m\u001b[0m \u001b[1m96s\u001b[0m 204ms/step - c0_accuracy: 0.7222 - dense_43_accuracy: 0.7480 - dense_44_accuracy: 0.7789 - dense_45_accuracy: 0.8327 - dense_46_accuracy: 0.9031 - loss: 3.0415 - val_c0_accuracy: 0.9070 - val_dense_43_accuracy: 0.9147 - val_dense_44_accuracy: 0.9330 - val_dense_45_accuracy: 0.9499 - val_dense_46_accuracy: 0.9763 - val_loss: 1.3173\n",
      "Epoch 3/12\n",
      "\u001b[1m469/469\u001b[0m \u001b[32m━━━━━━━━━━━━━━━━━━━━\u001b[0m\u001b[37m\u001b[0m \u001b[1m91s\u001b[0m 195ms/step - c0_accuracy: 0.7639 - dense_43_accuracy: 0.7864 - dense_44_accuracy: 0.8052 - dense_45_accuracy: 0.8525 - dense_46_accuracy: 0.9187 - loss: 2.5855 - val_c0_accuracy: 0.9179 - val_dense_43_accuracy: 0.9273 - val_dense_44_accuracy: 0.9410 - val_dense_45_accuracy: 0.9612 - val_dense_46_accuracy: 0.9828 - val_loss: 1.0820\n",
      "Epoch 4/12\n",
      "\u001b[1m469/469\u001b[0m \u001b[32m━━━━━━━━━━━━━━━━━━━━\u001b[0m\u001b[37m\u001b[0m \u001b[1m91s\u001b[0m 194ms/step - c0_accuracy: 0.7889 - dense_43_accuracy: 0.8068 - dense_44_accuracy: 0.8227 - dense_45_accuracy: 0.8631 - dense_46_accuracy: 0.9231 - loss: 2.3390 - val_c0_accuracy: 0.9250 - val_dense_43_accuracy: 0.9300 - val_dense_44_accuracy: 0.9461 - val_dense_45_accuracy: 0.9639 - val_dense_46_accuracy: 0.9849 - val_loss: 0.9671\n",
      "Epoch 5/12\n",
      "\u001b[1m469/469\u001b[0m \u001b[32m━━━━━━━━━━━━━━━━━━━━\u001b[0m\u001b[37m\u001b[0m \u001b[1m93s\u001b[0m 198ms/step - c0_accuracy: 0.8069 - dense_43_accuracy: 0.8197 - dense_44_accuracy: 0.8361 - dense_45_accuracy: 0.8724 - dense_46_accuracy: 0.9289 - loss: 2.1390 - val_c0_accuracy: 0.9278 - val_dense_43_accuracy: 0.9290 - val_dense_44_accuracy: 0.9490 - val_dense_45_accuracy: 0.9630 - val_dense_46_accuracy: 0.9866 - val_loss: 0.9148\n",
      "Epoch 6/12\n",
      "\u001b[1m469/469\u001b[0m \u001b[32m━━━━━━━━━━━━━━━━━━━━\u001b[0m\u001b[37m\u001b[0m \u001b[1m92s\u001b[0m 197ms/step - c0_accuracy: 0.8262 - dense_43_accuracy: 0.8364 - dense_44_accuracy: 0.8487 - dense_45_accuracy: 0.8792 - dense_46_accuracy: 0.9343 - loss: 1.9591 - val_c0_accuracy: 0.9270 - val_dense_43_accuracy: 0.9386 - val_dense_44_accuracy: 0.9523 - val_dense_45_accuracy: 0.9645 - val_dense_46_accuracy: 0.9872 - val_loss: 0.8239\n",
      "Epoch 7/12\n",
      "\u001b[1m469/469\u001b[0m \u001b[32m━━━━━━━━━━━━━━━━━━━━\u001b[0m\u001b[37m\u001b[0m \u001b[1m90s\u001b[0m 192ms/step - c0_accuracy: 0.8349 - dense_43_accuracy: 0.8454 - dense_44_accuracy: 0.8572 - dense_45_accuracy: 0.8888 - dense_46_accuracy: 0.9361 - loss: 1.8294 - val_c0_accuracy: 0.9339 - val_dense_43_accuracy: 0.9423 - val_dense_44_accuracy: 0.9522 - val_dense_45_accuracy: 0.9662 - val_dense_46_accuracy: 0.9875 - val_loss: 0.7773\n",
      "Epoch 8/12\n",
      "\u001b[1m469/469\u001b[0m \u001b[32m━━━━━━━━━━━━━━━━━━━━\u001b[0m\u001b[37m\u001b[0m \u001b[1m93s\u001b[0m 198ms/step - c0_accuracy: 0.8449 - dense_43_accuracy: 0.8537 - dense_44_accuracy: 0.8635 - dense_45_accuracy: 0.8940 - dense_46_accuracy: 0.9378 - loss: 1.7262 - val_c0_accuracy: 0.9341 - val_dense_43_accuracy: 0.9400 - val_dense_44_accuracy: 0.9544 - val_dense_45_accuracy: 0.9677 - val_dense_46_accuracy: 0.9871 - val_loss: 0.7557\n",
      "Epoch 9/12\n",
      "\u001b[1m469/469\u001b[0m \u001b[32m━━━━━━━━━━━━━━━━━━━━\u001b[0m\u001b[37m\u001b[0m \u001b[1m90s\u001b[0m 191ms/step - c0_accuracy: 0.8536 - dense_43_accuracy: 0.8613 - dense_44_accuracy: 0.8707 - dense_45_accuracy: 0.8977 - dense_46_accuracy: 0.9393 - loss: 1.6349 - val_c0_accuracy: 0.9345 - val_dense_43_accuracy: 0.9377 - val_dense_44_accuracy: 0.9531 - val_dense_45_accuracy: 0.9671 - val_dense_46_accuracy: 0.9894 - val_loss: 0.7409\n",
      "Epoch 10/12\n",
      "\u001b[1m469/469\u001b[0m \u001b[32m━━━━━━━━━━━━━━━━━━━━\u001b[0m\u001b[37m\u001b[0m \u001b[1m89s\u001b[0m 189ms/step - c0_accuracy: 0.8614 - dense_43_accuracy: 0.8679 - dense_44_accuracy: 0.8769 - dense_45_accuracy: 0.9023 - dense_46_accuracy: 0.9436 - loss: 1.5460 - val_c0_accuracy: 0.9356 - val_dense_43_accuracy: 0.9446 - val_dense_44_accuracy: 0.9539 - val_dense_45_accuracy: 0.9680 - val_dense_46_accuracy: 0.9882 - val_loss: 0.7219\n",
      "Epoch 11/12\n",
      "\u001b[1m469/469\u001b[0m \u001b[32m━━━━━━━━━━━━━━━━━━━━\u001b[0m\u001b[37m\u001b[0m \u001b[1m89s\u001b[0m 190ms/step - c0_accuracy: 0.8649 - dense_43_accuracy: 0.8736 - dense_44_accuracy: 0.8825 - dense_45_accuracy: 0.9070 - dense_46_accuracy: 0.9429 - loss: 1.4728 - val_c0_accuracy: 0.9354 - val_dense_43_accuracy: 0.9465 - val_dense_44_accuracy: 0.9550 - val_dense_45_accuracy: 0.9691 - val_dense_46_accuracy: 0.9886 - val_loss: 0.7137\n",
      "Epoch 12/12\n",
      "\u001b[1m469/469\u001b[0m \u001b[32m━━━━━━━━━━━━━━━━━━━━\u001b[0m\u001b[37m\u001b[0m \u001b[1m89s\u001b[0m 190ms/step - c0_accuracy: 0.8716 - dense_43_accuracy: 0.8760 - dense_44_accuracy: 0.8882 - dense_45_accuracy: 0.9076 - dense_46_accuracy: 0.9458 - loss: 1.4046 - val_c0_accuracy: 0.9354 - val_dense_43_accuracy: 0.9468 - val_dense_44_accuracy: 0.9540 - val_dense_45_accuracy: 0.9711 - val_dense_46_accuracy: 0.9882 - val_loss: 0.7116\n"
     ]
    },
    {
     "data": {
      "text/plain": [
       "<keras.src.callbacks.history.History at 0x29757a7d0>"
      ]
     },
     "execution_count": 71,
     "metadata": {},
     "output_type": "execute_result"
    }
   ],
   "source": [
    "#Building the model\n",
    "\n",
    "batch_size = 128\n",
    "nb_classes = 11\n",
    "epochs = 12  # updated from nb_epoch to epochs\n",
    "\n",
    "#image input dimensions\n",
    "img_rows = 64\n",
    "img_cols = 64\n",
    "img_channels = 1\n",
    "\n",
    "#number of convolution filters to use\n",
    "nb_filters = 32\n",
    "# size of pooling area for max pooling\n",
    "pool_size = (2, 2)\n",
    "# convolution kernel size\n",
    "kernel_size = (3, 3)\n",
    "\n",
    "#defining the input\n",
    "inputs = Input(shape=(img_rows, img_cols, img_channels))\n",
    "\n",
    "#Model architecture\n",
    "cov = Conv2D(nb_filters, kernel_size, padding='same')(inputs)  # updated to Conv2D and padding\n",
    "cov = Activation('relu')(cov)\n",
    "cov = Conv2D(nb_filters, kernel_size, padding='valid')(cov)  # updated to Conv2D\n",
    "cov = Activation('relu')(cov)\n",
    "cov = MaxPooling2D(pool_size=pool_size)(cov)\n",
    "cov = Dropout(0.25)(cov)\n",
    "cov_out = Flatten()(cov)\n",
    "\n",
    "#Dense Layers\n",
    "cov2 = Dense(128, activation='relu')(cov_out)\n",
    "cov2 = Dropout(0.5)(cov2)\n",
    "\n",
    "#Prediction layers\n",
    "c0 = Dense(nb_classes, activation='softmax', name='c0')(cov2)\n",
    "c1 = Dense(nb_classes, activation='softmax')(cov2)\n",
    "c2 = Dense(nb_classes, activation='softmax')(cov2)\n",
    "c3 = Dense(nb_classes, activation='softmax')(cov2)\n",
    "c4 = Dense(nb_classes, activation='softmax')(cov2)\n",
    "\n",
    "#Defining the model\n",
    "model = Model(inputs=inputs, outputs=[c0, c1, c2, c3, c4])\n",
    "\n",
    "#Compiling the model\n",
    "model.compile(\n",
    "    loss='categorical_crossentropy',\n",
    "    optimizer='adam',\n",
    "    metrics=['accuracy', 'accuracy', 'accuracy', 'accuracy', 'accuracy']\n",
    ")\n",
    "\n",
    "\n",
    "#Fitting the model\n",
    "model.fit(train_images, train_labels, batch_size=batch_size, epochs=epochs, verbose=1, validation_data=(test_images, test_labels))\n"
   ]
  },
  {
   "cell_type": "code",
   "execution_count": 72,
   "id": "4f140a80",
   "metadata": {},
   "outputs": [
    {
     "name": "stdout",
     "output_type": "stream",
     "text": [
      "\u001b[1m313/313\u001b[0m \u001b[32m━━━━━━━━━━━━━━━━━━━━\u001b[0m\u001b[37m\u001b[0m \u001b[1m4s\u001b[0m 12ms/step\n"
     ]
    }
   ],
   "source": [
    "predictions = model.predict(test_images)"
   ]
  },
  {
   "cell_type": "code",
   "execution_count": 73,
   "id": "47eeafed",
   "metadata": {},
   "outputs": [
    {
     "data": {
      "text/plain": [
       "(5, 10000, 11)"
      ]
     },
     "execution_count": 73,
     "metadata": {},
     "output_type": "execute_result"
    }
   ],
   "source": [
    "np.shape(predictions)"
   ]
  },
  {
   "cell_type": "code",
   "execution_count": 74,
   "id": "4ce97936",
   "metadata": {},
   "outputs": [
    {
     "data": {
      "text/plain": [
       "10000"
      ]
     },
     "execution_count": 74,
     "metadata": {},
     "output_type": "execute_result"
    }
   ],
   "source": [
    "len(predictions[0])"
   ]
  },
  {
   "cell_type": "code",
   "execution_count": 75,
   "id": "30fe46ae",
   "metadata": {},
   "outputs": [
    {
     "data": {
      "text/plain": [
       "(5, 10000, 11)"
      ]
     },
     "execution_count": 75,
     "metadata": {},
     "output_type": "execute_result"
    }
   ],
   "source": [
    "np.shape(test_labels)"
   ]
  },
  {
   "cell_type": "code",
   "execution_count": 76,
   "id": "90b7d1e6",
   "metadata": {},
   "outputs": [],
   "source": [
    "def calculate_acc(predictions,real_labels):\n",
    "    \n",
    "    individual_counter = 0\n",
    "    global_sequence_counter = 0\n",
    "    for i in range(0,len(predictions[0])):\n",
    "        #Reset sequence counter at the start of each image\n",
    "        sequence_counter = 0 \n",
    "        \n",
    "        for j in range(0,5):\n",
    "            if np.argmax(predictions[j][i]) == np.argmax(real_labels[j][i]):\n",
    "                individual_counter += 1\n",
    "                sequence_counter +=1\n",
    "        \n",
    "        if sequence_counter == 5:\n",
    "            global_sequence_counter += 1\n",
    "         \n",
    "    ind_accuracy = individual_counter/50000.0\n",
    "    global_accuracy = global_sequence_counter/10000.0\n",
    "    \n",
    "    return ind_accuracy,global_accuracy"
   ]
  },
  {
   "cell_type": "code",
   "execution_count": 77,
   "id": "0a411240",
   "metadata": {},
   "outputs": [],
   "source": [
    "ind_acc,glob_acc = calculate_acc(predictions,test_labels)"
   ]
  },
  {
   "cell_type": "code",
   "execution_count": 78,
   "id": "6bdc788d",
   "metadata": {},
   "outputs": [
    {
     "name": "stdout",
     "output_type": "stream",
     "text": [
      "The individual accuracy is 95.91 %\n",
      "The sequence prediction accuracy is 81.39999999999999 %\n"
     ]
    }
   ],
   "source": [
    "print(\"The individual accuracy is {} %\".format(ind_acc*100))\n",
    "print(\"The sequence prediction accuracy is {} %\".format(glob_acc*100))"
   ]
  },
  {
   "cell_type": "code",
   "execution_count": 79,
   "id": "23b83b67",
   "metadata": {},
   "outputs": [
    {
     "name": "stdout",
     "output_type": "stream",
     "text": [
      "Actual labels: [9, 2, 1, 10, 10]\n",
      "Predicted labels: [9, 2, 1, 10, 10]\n",
      "\n",
      "Actual labels: [5, 0, 9, 9, 10]\n",
      "Predicted labels: [5, 0, 9, 3, 10]\n",
      "\n",
      "Actual labels: [4, 2, 10, 10, 10]\n",
      "Predicted labels: [4, 2, 10, 10, 10]\n",
      "\n",
      "Actual labels: [1, 1, 3, 10, 10]\n",
      "Predicted labels: [1, 1, 3, 10, 10]\n",
      "\n",
      "Actual labels: [7, 10, 10, 10, 10]\n",
      "Predicted labels: [7, 10, 10, 10, 10]\n",
      "\n"
     ]
    }
   ],
   "source": [
    "#Printing some examples of real and predicted labels\n",
    "for i in random.sample(range(0,10000),5):\n",
    "    \n",
    "    actual_labels = []\n",
    "    predicted_labels = []\n",
    "    \n",
    "    for j in range(0,5):\n",
    "        actual_labels.append(np.argmax(test_labels[j][i]))\n",
    "        predicted_labels.append(np.argmax(predictions[j][i]))\n",
    "        \n",
    "    print(\"Actual labels: {}\".format(actual_labels))\n",
    "    print(\"Predicted labels: {}\\n\".format(predicted_labels))"
   ]
  },
  {
   "cell_type": "markdown",
   "id": "5a5f3097",
   "metadata": {},
   "source": [
    "The model demonstrated strong performance, accurately identifying single digits or blank spaces with a 95.91% success rate and correctly recognizing entire sequences 81.4% of the time."
   ]
  }
 ],
 "metadata": {
  "kernelspec": {
   "display_name": "Python 3 (ipykernel)",
   "language": "python",
   "name": "python3"
  },
  "language_info": {
   "codemirror_mode": {
    "name": "ipython",
    "version": 3
   },
   "file_extension": ".py",
   "mimetype": "text/x-python",
   "name": "python",
   "nbconvert_exporter": "python",
   "pygments_lexer": "ipython3",
   "version": "3.11.4"
  }
 },
 "nbformat": 4,
 "nbformat_minor": 5
}
